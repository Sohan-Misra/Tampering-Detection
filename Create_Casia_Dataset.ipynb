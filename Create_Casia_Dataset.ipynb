{
 "cells": [
  {
   "cell_type": "code",
   "execution_count": 1,
   "id": "0eac7977-cc9e-4a7b-802c-61d5a01fc3fa",
   "metadata": {},
   "outputs": [],
   "source": [
    "import os\n",
    "import glob\n",
    "import csv"
   ]
  },
  {
   "cell_type": "code",
   "execution_count": 2,
   "id": "bb4f0a6c-f217-451c-b9dc-3c7dbc9b3c52",
   "metadata": {},
   "outputs": [
    {
     "data": {
      "text/plain": [
       "(7492, 5125)"
      ]
     },
     "execution_count": 2,
     "metadata": {},
     "output_type": "execute_result"
    }
   ],
   "source": [
    "path1 = '/home/sohan/Final_Project/archive/CASIA2/Au'\n",
    "path2 = '/home/sohan/Final_Project/archive/CASIA2/Tp'\n",
    "dir_list1= os.listdir(path1)\n",
    "dir_list2= os.listdir(path2)\n",
    "#print(dir_list[0:5])\n",
    "len(dir_list1),len(dir_list2)"
   ]
  },
  {
   "cell_type": "code",
   "execution_count": 11,
   "id": "f43b834d-e750-4841-bfb3-e81ba4b3aa27",
   "metadata": {},
   "outputs": [],
   "source": [
    "def get_img_list(path):\n",
    "  return [os.path.join(path,f) for f in os.listdir(path) if f.endswith('.jpg') or f.endswith('.tif')] \n",
    "\n",
    "def get_img_list2(path):\n",
    "  return [os.path.join(path,f) for f in os.listdir(path)] "
   ]
  },
  {
   "cell_type": "code",
   "execution_count": 29,
   "id": "0085b151-760d-4f03-86db-9b581d25eef0",
   "metadata": {},
   "outputs": [
    {
     "data": {
      "text/plain": [
       "(7491, 5123)"
      ]
     },
     "execution_count": 29,
     "metadata": {},
     "output_type": "execute_result"
    }
   ],
   "source": [
    "dir_list1 = get_img_list2(path1)\n",
    "dir_list2 = get_img_list(path2)\n",
    "len(dir_list1),len(dir_list2)"
   ]
  },
  {
   "cell_type": "code",
   "execution_count": 30,
   "id": "fef8656d-898f-4971-9742-cfe10f41ddb5",
   "metadata": {},
   "outputs": [],
   "source": [
    "for i in range (0,len(dir_list1)):\n",
    "    dir_list1[i]=dir_list1[i][-16:]\n",
    "    \n",
    "for i in range (0,len(dir_list2)):\n",
    "    dir_list2[i]=dir_list2[i][-40:]"
   ]
  },
  {
   "cell_type": "code",
   "execution_count": 31,
   "id": "31359f33-4289-4eb2-aba7-42799c9b6808",
   "metadata": {},
   "outputs": [
    {
     "data": {
      "text/plain": [
       "['Au_cha_00003.jpg',\n",
       " 'Au_nat_30448.jpg',\n",
       " 'Au_sec_30217.jpg',\n",
       " 'Au_cha_10160.jpg',\n",
       " 'Au_sec_30488.jpg']"
      ]
     },
     "execution_count": 31,
     "metadata": {},
     "output_type": "execute_result"
    }
   ],
   "source": [
    "dir_list1[:5]"
   ]
  },
  {
   "cell_type": "code",
   "execution_count": 32,
   "id": "c68cefcd-a4d7-4377-a53b-3088948c5725",
   "metadata": {},
   "outputs": [
    {
     "data": {
      "text/plain": [
       "['Tp_S_NND_S_N_cha00092_cha00092_00412.tif',\n",
       " 'Tp_S_CRN_S_N_ind00066_ind00066_10691.jpg',\n",
       " 'Tp_D_NRN_M_N_nat10123_nat10122_11336.jpg',\n",
       " 'Tp_S_CND_S_N_pla00057_pla00057_00590.tif',\n",
       " 'Tp_D_NRN_M_B_ind00053_cha00063_11390.jpg']"
      ]
     },
     "execution_count": 32,
     "metadata": {},
     "output_type": "execute_result"
    }
   ],
   "source": [
    "dir_list2[:5]"
   ]
  },
  {
   "cell_type": "code",
   "execution_count": 33,
   "id": "d2a9f0a3-73c8-4569-b34b-af0998e01f8c",
   "metadata": {},
   "outputs": [],
   "source": [
    "keys = ('Filename','Type')\n",
    "data = dict.fromkeys(keys)"
   ]
  },
  {
   "cell_type": "code",
   "execution_count": 34,
   "id": "edb560b7-a877-4137-a2cf-f872af6fc774",
   "metadata": {},
   "outputs": [],
   "source": [
    "dir_list = dir_list1 + dir_list2"
   ]
  },
  {
   "cell_type": "code",
   "execution_count": 35,
   "id": "a35dcdcd-16f9-432f-b2ac-0dd1d1c07541",
   "metadata": {},
   "outputs": [
    {
     "data": {
      "text/plain": [
       "12614"
      ]
     },
     "execution_count": 35,
     "metadata": {},
     "output_type": "execute_result"
    }
   ],
   "source": [
    "len(dir_list)"
   ]
  },
  {
   "cell_type": "code",
   "execution_count": 45,
   "id": "e26d5427-ce9c-4d58-a633-10225b7aa3b3",
   "metadata": {},
   "outputs": [],
   "source": [
    "list=[]\n",
    "c=0\n",
    "for i in range (0,7491):\n",
    "    list.append(0)\n",
    "for i in range(7491,12614):\n",
    "    list.append(1)"
   ]
  },
  {
   "cell_type": "code",
   "execution_count": 46,
   "id": "1f6c2538-07f0-4c9b-aafb-f1676385890b",
   "metadata": {},
   "outputs": [],
   "source": [
    "data['Filename'] = dir_list\n",
    "data['Type'] = list"
   ]
  },
  {
   "cell_type": "code",
   "execution_count": null,
   "id": "9851087c-cc46-404a-8eb6-b172a7b86088",
   "metadata": {},
   "outputs": [],
   "source": [
    "data"
   ]
  },
  {
   "cell_type": "code",
   "execution_count": 43,
   "id": "231b43e6-c93c-44ea-92b1-db92427c151a",
   "metadata": {},
   "outputs": [
    {
     "data": {
      "text/plain": [
       "2"
      ]
     },
     "execution_count": 43,
     "metadata": {},
     "output_type": "execute_result"
    }
   ],
   "source": [
    "len(data)"
   ]
  },
  {
   "cell_type": "code",
   "execution_count": 47,
   "id": "8b8209e8-41f0-452e-86e5-e7be3697bfd2",
   "metadata": {},
   "outputs": [],
   "source": [
    "import pandas as pd\n",
    "df = pd.DataFrame.from_dict(data)"
   ]
  },
  {
   "cell_type": "code",
   "execution_count": 48,
   "id": "fa5ea5fe-c343-4e04-b77b-83e4fbab295d",
   "metadata": {},
   "outputs": [
    {
     "data": {
      "text/html": [
       "<div>\n",
       "<style scoped>\n",
       "    .dataframe tbody tr th:only-of-type {\n",
       "        vertical-align: middle;\n",
       "    }\n",
       "\n",
       "    .dataframe tbody tr th {\n",
       "        vertical-align: top;\n",
       "    }\n",
       "\n",
       "    .dataframe thead th {\n",
       "        text-align: right;\n",
       "    }\n",
       "</style>\n",
       "<table border=\"1\" class=\"dataframe\">\n",
       "  <thead>\n",
       "    <tr style=\"text-align: right;\">\n",
       "      <th></th>\n",
       "      <th>Filename</th>\n",
       "      <th>Type</th>\n",
       "    </tr>\n",
       "  </thead>\n",
       "  <tbody>\n",
       "    <tr>\n",
       "      <th>0</th>\n",
       "      <td>Au_cha_00003.jpg</td>\n",
       "      <td>0</td>\n",
       "    </tr>\n",
       "    <tr>\n",
       "      <th>1</th>\n",
       "      <td>Au_nat_30448.jpg</td>\n",
       "      <td>0</td>\n",
       "    </tr>\n",
       "    <tr>\n",
       "      <th>2</th>\n",
       "      <td>Au_sec_30217.jpg</td>\n",
       "      <td>0</td>\n",
       "    </tr>\n",
       "    <tr>\n",
       "      <th>3</th>\n",
       "      <td>Au_cha_10160.jpg</td>\n",
       "      <td>0</td>\n",
       "    </tr>\n",
       "    <tr>\n",
       "      <th>4</th>\n",
       "      <td>Au_sec_30488.jpg</td>\n",
       "      <td>0</td>\n",
       "    </tr>\n",
       "  </tbody>\n",
       "</table>\n",
       "</div>"
      ],
      "text/plain": [
       "           Filename  Type\n",
       "0  Au_cha_00003.jpg     0\n",
       "1  Au_nat_30448.jpg     0\n",
       "2  Au_sec_30217.jpg     0\n",
       "3  Au_cha_10160.jpg     0\n",
       "4  Au_sec_30488.jpg     0"
      ]
     },
     "execution_count": 48,
     "metadata": {},
     "output_type": "execute_result"
    }
   ],
   "source": [
    "df.head()"
   ]
  },
  {
   "cell_type": "code",
   "execution_count": 49,
   "id": "e5b2894f-4383-402e-9d36-f0f165417a5a",
   "metadata": {},
   "outputs": [
    {
     "data": {
      "text/html": [
       "<div>\n",
       "<style scoped>\n",
       "    .dataframe tbody tr th:only-of-type {\n",
       "        vertical-align: middle;\n",
       "    }\n",
       "\n",
       "    .dataframe tbody tr th {\n",
       "        vertical-align: top;\n",
       "    }\n",
       "\n",
       "    .dataframe thead th {\n",
       "        text-align: right;\n",
       "    }\n",
       "</style>\n",
       "<table border=\"1\" class=\"dataframe\">\n",
       "  <thead>\n",
       "    <tr style=\"text-align: right;\">\n",
       "      <th></th>\n",
       "      <th>Filename</th>\n",
       "      <th>Type</th>\n",
       "    </tr>\n",
       "  </thead>\n",
       "  <tbody>\n",
       "    <tr>\n",
       "      <th>12609</th>\n",
       "      <td>Tp_S_NRN_S_N_pla20099_pla20099_01999.tif</td>\n",
       "      <td>1</td>\n",
       "    </tr>\n",
       "    <tr>\n",
       "      <th>12610</th>\n",
       "      <td>Tp_D_NRN_S_N_ani10171_ani00097_12457.jpg</td>\n",
       "      <td>1</td>\n",
       "    </tr>\n",
       "    <tr>\n",
       "      <th>12611</th>\n",
       "      <td>Tp_S_NRN_S_N_cha10191_cha10191_12328.jpg</td>\n",
       "      <td>1</td>\n",
       "    </tr>\n",
       "    <tr>\n",
       "      <th>12612</th>\n",
       "      <td>Tp_S_CRN_S_N_pla00070_pla00070_11216.jpg</td>\n",
       "      <td>1</td>\n",
       "    </tr>\n",
       "    <tr>\n",
       "      <th>12613</th>\n",
       "      <td>Tp_S_NRN_S_N_ind20019_ind20019_01760.tif</td>\n",
       "      <td>1</td>\n",
       "    </tr>\n",
       "  </tbody>\n",
       "</table>\n",
       "</div>"
      ],
      "text/plain": [
       "                                       Filename  Type\n",
       "12609  Tp_S_NRN_S_N_pla20099_pla20099_01999.tif     1\n",
       "12610  Tp_D_NRN_S_N_ani10171_ani00097_12457.jpg     1\n",
       "12611  Tp_S_NRN_S_N_cha10191_cha10191_12328.jpg     1\n",
       "12612  Tp_S_CRN_S_N_pla00070_pla00070_11216.jpg     1\n",
       "12613  Tp_S_NRN_S_N_ind20019_ind20019_01760.tif     1"
      ]
     },
     "execution_count": 49,
     "metadata": {},
     "output_type": "execute_result"
    }
   ],
   "source": [
    "df.tail()"
   ]
  },
  {
   "cell_type": "code",
   "execution_count": 50,
   "id": "e267dc56-8def-47bf-888b-6f11d11534e3",
   "metadata": {},
   "outputs": [],
   "source": [
    "csv_data = df.to_csv('CASIA_data.csv', index = False, header=None)"
   ]
  },
  {
   "cell_type": "code",
   "execution_count": null,
   "id": "603bc1c0-781a-477d-a9ad-cd0d4b746fb8",
   "metadata": {},
   "outputs": [],
   "source": []
  }
 ],
 "metadata": {
  "kernelspec": {
   "display_name": "Python 3 (ipykernel)",
   "language": "python",
   "name": "python3"
  },
  "language_info": {
   "codemirror_mode": {
    "name": "ipython",
    "version": 3
   },
   "file_extension": ".py",
   "mimetype": "text/x-python",
   "name": "python",
   "nbconvert_exporter": "python",
   "pygments_lexer": "ipython3",
   "version": "3.9.10"
  }
 },
 "nbformat": 4,
 "nbformat_minor": 5
}
